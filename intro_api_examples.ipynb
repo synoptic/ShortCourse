{
 "cells": [
  {
   "cell_type": "markdown",
   "id": "767d1487-f1a8-49ea-b5cb-f99e4acbd832",
   "metadata": {},
   "source": [
    "# Synoptic Data's API\n",
    "\n",
    "[Synoptic’s Mesonet API](https://developers.synopticdata.com/mesonet/) is a powerful and fully scalable service for accessing an expansive database of real-time and historical surface-based weather observations from over 90,000 public and private observing stations, yielding over 96 million observations daily available to Synoptic users. This RESTful API is a request-based data delivery service using a simple HTTP call that can extract minutes or years of data in seconds for locations across the globe. Synoptic's Mesonet API allows for complete customization via an API call, allowing the user to request specific variables at any time for an exact location anywhere on the globe, find all stations within a certain radius of a location, and more.\n",
    "\n",
    "## Important Links\n",
    "\n",
    "- [Mesonet API Dev Page](https://developers.synopticdata.com/mesonet/)\n",
    "\n",
    "- [Getting Started with Synoptic's API](https://developers.synopticdata.com/mesonet/v2/getting-started/)\n",
    "\n",
    "- [Query String Interactive Builder](https://developers.synopticdata.com/mesonet/explorer/)\n",
    "\n",
    "- [Query Documentation](https://developers.synopticdata.com/mesonet/explorer/)\n",
    "\n",
    "\n",
    "\n"
   ]
  },
  {
   "cell_type": "markdown",
   "id": "6c2e1e17-e8f6-4aaa-9997-4075033368e6",
   "metadata": {
    "tags": []
   },
   "source": [
    "### Basic Python Example"
   ]
  },
  {
   "cell_type": "code",
   "execution_count": 24,
   "id": "4755a993-3863-4dcd-9c64-a3c3bab93b20",
   "metadata": {},
   "outputs": [],
   "source": [
    "# import packages\n",
    "import requests\n",
    "import os\n",
    "import pandas as pd\n",
    "\n",
    "# define global variables\n",
    "API_TOKEN = # Your token here!\n",
    "API_ROOT = \"https://api.synopticdata.com/v2/\"\n",
    "\n",
    "# build api url querying the latest stations\n",
    "api_request_url = os.path.join(API_ROOT, \"stations/latest\")\n",
    "\n",
    "# build api argument parameters dictionary\n",
    "api_arguments = {\"token\":API_TOKEN,\"stid\":\"KLAX\"}\n",
    "\n",
    "# request data from synoptic's api based off of URL and api args\n",
    "req = requests.get(api_request_url, params=api_arguments)\n",
    "\n",
    "# create dictionary from requests object\n",
    "data_dict = req.json()\n"
   ]
  },
  {
   "cell_type": "code",
   "execution_count": 36,
   "id": "a87a7005-ccc0-48e1-ab78-f8e806e99d61",
   "metadata": {},
   "outputs": [
    {
     "data": {
      "text/plain": [
       "{'DATA_QUERY_TIME': '2.03108787537 ms',\n",
       " 'RESPONSE_CODE': 1,\n",
       " 'RESPONSE_MESSAGE': 'OK',\n",
       " 'METADATA_RESPONSE_TIME': '3.03983688354 ms',\n",
       " 'DATA_PARSING_TIME': '0.53596496582 ms',\n",
       " 'VERSION': 'v2.17.0',\n",
       " 'TOTAL_DATA_TIME': '2.5680065155 ms',\n",
       " 'NUMBER_OF_OBJECTS': 1}"
      ]
     },
     "execution_count": 36,
     "metadata": {},
     "output_type": "execute_result"
    }
   ],
   "source": [
    "data_dict['SUMMARY']"
   ]
  },
  {
   "cell_type": "code",
   "execution_count": 53,
   "id": "dc22aea7-cc3d-4f3b-b770-2da2d3ea325b",
   "metadata": {},
   "outputs": [
    {
     "data": {
      "text/plain": [
       "{'date_time': '2023-01-08T00:15:00Z', 'value': 15.0}"
      ]
     },
     "execution_count": 53,
     "metadata": {},
     "output_type": "execute_result"
    }
   ],
   "source": [
    "# parse out the observations to a separate dictionary\n",
    "data_obs = data_dict['STATION'][0]['OBSERVATIONS']\n",
    "\n",
    "# let's print the air temperature value\n",
    "data_obs['air_temp_value_1']"
   ]
  },
  {
   "cell_type": "code",
   "execution_count": 54,
   "id": "107b69c0-aa26-4dbb-b47a-1599b3336936",
   "metadata": {},
   "outputs": [
    {
     "data": {
      "text/plain": [
       "{'date_time': '2023-01-08T00:15:00Z', 'value': 101997.29}"
      ]
     },
     "execution_count": 54,
     "metadata": {},
     "output_type": "execute_result"
    }
   ],
   "source": [
    "# let's print the sea level pressure\n",
    "data_obs['sea_level_pressure_value_1d']"
   ]
  },
  {
   "cell_type": "code",
   "execution_count": 55,
   "id": "73ebd712-e249-411a-881d-4f7adc810d40",
   "metadata": {},
   "outputs": [],
   "source": [
    "# let's convert the data observations to a pandas dataframe\n",
    "data_obs_df = pd.DataFrame.from_dict(data_obs)"
   ]
  },
  {
   "cell_type": "code",
   "execution_count": 56,
   "id": "efba9bdd-c6ab-4e22-8fde-c1b38185df6e",
   "metadata": {},
   "outputs": [
    {
     "data": {
      "text/html": [
       "<div>\n",
       "<style scoped>\n",
       "    .dataframe tbody tr th:only-of-type {\n",
       "        vertical-align: middle;\n",
       "    }\n",
       "\n",
       "    .dataframe tbody tr th {\n",
       "        vertical-align: top;\n",
       "    }\n",
       "\n",
       "    .dataframe thead th {\n",
       "        text-align: right;\n",
       "    }\n",
       "</style>\n",
       "<table border=\"1\" class=\"dataframe\">\n",
       "  <thead>\n",
       "    <tr style=\"text-align: right;\">\n",
       "      <th></th>\n",
       "      <th>precip_accum_24_hour_value_1</th>\n",
       "      <th>wind_gust_value_1</th>\n",
       "      <th>wind_cardinal_direction_value_1d</th>\n",
       "      <th>wind_direction_value_1</th>\n",
       "      <th>peak_wind_direction_value_1</th>\n",
       "      <th>ceiling_value_1</th>\n",
       "      <th>air_temp_low_24_hour_value_1</th>\n",
       "      <th>cloud_layer_3_code_value_1</th>\n",
       "      <th>metar_origin_value_1</th>\n",
       "      <th>sea_level_pressure_value_1</th>\n",
       "      <th>...</th>\n",
       "      <th>wind_speed_value_1</th>\n",
       "      <th>air_temp_value_1</th>\n",
       "      <th>dew_point_temperature_value_1d</th>\n",
       "      <th>air_temp_high_24_hour_value_1</th>\n",
       "      <th>sea_level_pressure_value_1d</th>\n",
       "      <th>weather_condition_value_1d</th>\n",
       "      <th>air_temp_high_6_hour_value_1</th>\n",
       "      <th>weather_summary_value_1d</th>\n",
       "      <th>metar_value_1</th>\n",
       "      <th>cloud_layer_1_value_1d</th>\n",
       "    </tr>\n",
       "  </thead>\n",
       "  <tbody>\n",
       "    <tr>\n",
       "      <th>date_time</th>\n",
       "      <td>2023-01-06T11:53:00Z</td>\n",
       "      <td>2023-01-06T18:50:00Z</td>\n",
       "      <td>2023-01-08T00:15:00Z</td>\n",
       "      <td>2023-01-08T00:15:00Z</td>\n",
       "      <td>2023-01-05T15:53:00Z</td>\n",
       "      <td>2023-01-07T23:53:00Z</td>\n",
       "      <td>2023-01-07T07:53:00Z</td>\n",
       "      <td>2023-01-06T18:53:00Z</td>\n",
       "      <td>2023-01-07T23:53:00Z</td>\n",
       "      <td>2023-01-07T23:53:00Z</td>\n",
       "      <td>...</td>\n",
       "      <td>2023-01-08T00:15:00Z</td>\n",
       "      <td>2023-01-08T00:15:00Z</td>\n",
       "      <td>2023-01-08T00:15:00Z</td>\n",
       "      <td>2023-01-07T07:53:00Z</td>\n",
       "      <td>2023-01-08T00:15:00Z</td>\n",
       "      <td>2023-01-05T17:53:00Z</td>\n",
       "      <td>2023-01-07T23:53:00Z</td>\n",
       "      <td>2023-01-08T00:15:00Z</td>\n",
       "      <td>2023-01-08T00:15:00Z</td>\n",
       "      <td>2023-01-08T00:15:00Z</td>\n",
       "    </tr>\n",
       "    <tr>\n",
       "      <th>value</th>\n",
       "      <td>16.256</td>\n",
       "      <td>14.404</td>\n",
       "      <td>W</td>\n",
       "      <td>260.0</td>\n",
       "      <td>150.0</td>\n",
       "      <td>4572.0</td>\n",
       "      <td>7.8</td>\n",
       "      <td>1802.0</td>\n",
       "      <td>1.0</td>\n",
       "      <td>101970.0</td>\n",
       "      <td>...</td>\n",
       "      <td>4.63</td>\n",
       "      <td>15.0</td>\n",
       "      <td>8.95</td>\n",
       "      <td>16.7</td>\n",
       "      <td>101997.29</td>\n",
       "      <td>light rain</td>\n",
       "      <td>20.0</td>\n",
       "      <td>clear</td>\n",
       "      <td>METAR KLAX 080015Z AUTO 26009KT 10SM CLR 15/09...</td>\n",
       "      <td>{'sky_condition': 'clear', 'height_agl': None}</td>\n",
       "    </tr>\n",
       "  </tbody>\n",
       "</table>\n",
       "<p>2 rows × 37 columns</p>\n",
       "</div>"
      ],
      "text/plain": [
       "          precip_accum_24_hour_value_1     wind_gust_value_1  \\\n",
       "date_time         2023-01-06T11:53:00Z  2023-01-06T18:50:00Z   \n",
       "value                           16.256                14.404   \n",
       "\n",
       "          wind_cardinal_direction_value_1d wind_direction_value_1  \\\n",
       "date_time             2023-01-08T00:15:00Z   2023-01-08T00:15:00Z   \n",
       "value                                    W                  260.0   \n",
       "\n",
       "          peak_wind_direction_value_1       ceiling_value_1  \\\n",
       "date_time        2023-01-05T15:53:00Z  2023-01-07T23:53:00Z   \n",
       "value                           150.0                4572.0   \n",
       "\n",
       "          air_temp_low_24_hour_value_1 cloud_layer_3_code_value_1  \\\n",
       "date_time         2023-01-07T07:53:00Z       2023-01-06T18:53:00Z   \n",
       "value                              7.8                     1802.0   \n",
       "\n",
       "           metar_origin_value_1 sea_level_pressure_value_1  ...  \\\n",
       "date_time  2023-01-07T23:53:00Z       2023-01-07T23:53:00Z  ...   \n",
       "value                       1.0                   101970.0  ...   \n",
       "\n",
       "             wind_speed_value_1      air_temp_value_1  \\\n",
       "date_time  2023-01-08T00:15:00Z  2023-01-08T00:15:00Z   \n",
       "value                      4.63                  15.0   \n",
       "\n",
       "          dew_point_temperature_value_1d air_temp_high_24_hour_value_1  \\\n",
       "date_time           2023-01-08T00:15:00Z          2023-01-07T07:53:00Z   \n",
       "value                               8.95                          16.7   \n",
       "\n",
       "          sea_level_pressure_value_1d weather_condition_value_1d  \\\n",
       "date_time        2023-01-08T00:15:00Z       2023-01-05T17:53:00Z   \n",
       "value                       101997.29                 light rain   \n",
       "\n",
       "          air_temp_high_6_hour_value_1 weather_summary_value_1d  \\\n",
       "date_time         2023-01-07T23:53:00Z     2023-01-08T00:15:00Z   \n",
       "value                             20.0                    clear   \n",
       "\n",
       "                                               metar_value_1  \\\n",
       "date_time                               2023-01-08T00:15:00Z   \n",
       "value      METAR KLAX 080015Z AUTO 26009KT 10SM CLR 15/09...   \n",
       "\n",
       "                                   cloud_layer_1_value_1d  \n",
       "date_time                            2023-01-08T00:15:00Z  \n",
       "value      {'sky_condition': 'clear', 'height_agl': None}  \n",
       "\n",
       "[2 rows x 37 columns]"
      ]
     },
     "execution_count": 56,
     "metadata": {},
     "output_type": "execute_result"
    }
   ],
   "source": [
    "# print the pandas data obs dataframe\n",
    "data_obs_df"
   ]
  },
  {
   "cell_type": "markdown",
   "id": "61a62615-9105-4a4a-8301-c60ffeedf39d",
   "metadata": {},
   "source": [
    "### Basic Time Series Example"
   ]
  },
  {
   "cell_type": "code",
   "execution_count": 58,
   "id": "a8c8d471-bf4f-494b-8d78-09157c5845bd",
   "metadata": {},
   "outputs": [],
   "source": [
    "# import packages\n",
    "import requests\n",
    "import os\n",
    "import pandas as pd\n",
    "\n",
    "# define global variables\n",
    "API_TOKEN = # Your token here!\n",
    "API_ROOT = \"https://api.synopticdata.com/v2/\"\n",
    "\n",
    "# build api url querying the latest stations\n",
    "api_request_url = os.path.join(API_ROOT, \"stations/timeseries\")\n",
    "\n",
    "# build api argument parameters dictionary\n",
    "api_arguments = {\"token\":API_TOKEN,\"stid\":\"KLAX\", \"recent\":\"120\", \"vars\":\"air_temp\"}\n",
    "\n",
    "# request data from synoptic's api based off of URL and api args\n",
    "req = requests.get(api_request_url, params=api_arguments)\n",
    "\n",
    "# create dictionary from requests object\n",
    "data_dict = req.json()"
   ]
  },
  {
   "cell_type": "code",
   "execution_count": 68,
   "id": "e3809f26-dd96-49af-8535-cbd14175f7fe",
   "metadata": {},
   "outputs": [],
   "source": [
    "# parse out the observations to a separate dictionary\n",
    "data_obs = data_dict['STATION'][0]['OBSERVATIONS']\n",
    "\n",
    "# convert dictionary to pandas dataframe\n",
    "data_obs_df = pd.DataFrame.from_dict(data_obs)\n",
    "\n",
    "# set the index as the datetime\n",
    "data_obs_df = data_obs_df.set_index('date_time')"
   ]
  },
  {
   "cell_type": "code",
   "execution_count": 69,
   "id": "43845f67-4022-4289-9fee-42ce896482a4",
   "metadata": {},
   "outputs": [
    {
     "data": {
      "text/html": [
       "<div>\n",
       "<style scoped>\n",
       "    .dataframe tbody tr th:only-of-type {\n",
       "        vertical-align: middle;\n",
       "    }\n",
       "\n",
       "    .dataframe tbody tr th {\n",
       "        vertical-align: top;\n",
       "    }\n",
       "\n",
       "    .dataframe thead th {\n",
       "        text-align: right;\n",
       "    }\n",
       "</style>\n",
       "<table border=\"1\" class=\"dataframe\">\n",
       "  <thead>\n",
       "    <tr style=\"text-align: right;\">\n",
       "      <th></th>\n",
       "      <th>air_temp_set_1</th>\n",
       "    </tr>\n",
       "    <tr>\n",
       "      <th>date_time</th>\n",
       "      <th></th>\n",
       "    </tr>\n",
       "  </thead>\n",
       "  <tbody>\n",
       "    <tr>\n",
       "      <th>2023-01-07T22:53:00Z</th>\n",
       "      <td>16.7</td>\n",
       "    </tr>\n",
       "    <tr>\n",
       "      <th>2023-01-07T22:55:00Z</th>\n",
       "      <td>17.0</td>\n",
       "    </tr>\n",
       "    <tr>\n",
       "      <th>2023-01-07T23:00:00Z</th>\n",
       "      <td>17.0</td>\n",
       "    </tr>\n",
       "    <tr>\n",
       "      <th>2023-01-07T23:05:00Z</th>\n",
       "      <td>16.0</td>\n",
       "    </tr>\n",
       "    <tr>\n",
       "      <th>2023-01-07T23:10:00Z</th>\n",
       "      <td>16.0</td>\n",
       "    </tr>\n",
       "    <tr>\n",
       "      <th>2023-01-07T23:15:00Z</th>\n",
       "      <td>16.0</td>\n",
       "    </tr>\n",
       "    <tr>\n",
       "      <th>2023-01-07T23:20:00Z</th>\n",
       "      <td>16.0</td>\n",
       "    </tr>\n",
       "    <tr>\n",
       "      <th>2023-01-07T23:25:00Z</th>\n",
       "      <td>16.0</td>\n",
       "    </tr>\n",
       "    <tr>\n",
       "      <th>2023-01-07T23:30:00Z</th>\n",
       "      <td>16.0</td>\n",
       "    </tr>\n",
       "    <tr>\n",
       "      <th>2023-01-07T23:35:00Z</th>\n",
       "      <td>16.0</td>\n",
       "    </tr>\n",
       "    <tr>\n",
       "      <th>2023-01-07T23:40:00Z</th>\n",
       "      <td>16.0</td>\n",
       "    </tr>\n",
       "    <tr>\n",
       "      <th>2023-01-07T23:45:00Z</th>\n",
       "      <td>16.0</td>\n",
       "    </tr>\n",
       "    <tr>\n",
       "      <th>2023-01-07T23:50:00Z</th>\n",
       "      <td>16.0</td>\n",
       "    </tr>\n",
       "    <tr>\n",
       "      <th>2023-01-07T23:53:00Z</th>\n",
       "      <td>15.6</td>\n",
       "    </tr>\n",
       "    <tr>\n",
       "      <th>2023-01-07T23:55:00Z</th>\n",
       "      <td>16.0</td>\n",
       "    </tr>\n",
       "    <tr>\n",
       "      <th>2023-01-08T00:00:00Z</th>\n",
       "      <td>16.0</td>\n",
       "    </tr>\n",
       "    <tr>\n",
       "      <th>2023-01-08T00:05:00Z</th>\n",
       "      <td>16.0</td>\n",
       "    </tr>\n",
       "    <tr>\n",
       "      <th>2023-01-08T00:10:00Z</th>\n",
       "      <td>15.0</td>\n",
       "    </tr>\n",
       "    <tr>\n",
       "      <th>2023-01-08T00:15:00Z</th>\n",
       "      <td>15.0</td>\n",
       "    </tr>\n",
       "    <tr>\n",
       "      <th>2023-01-08T00:20:00Z</th>\n",
       "      <td>15.0</td>\n",
       "    </tr>\n",
       "    <tr>\n",
       "      <th>2023-01-08T00:25:00Z</th>\n",
       "      <td>15.0</td>\n",
       "    </tr>\n",
       "    <tr>\n",
       "      <th>2023-01-08T00:30:00Z</th>\n",
       "      <td>15.0</td>\n",
       "    </tr>\n",
       "    <tr>\n",
       "      <th>2023-01-08T00:35:00Z</th>\n",
       "      <td>15.0</td>\n",
       "    </tr>\n",
       "    <tr>\n",
       "      <th>2023-01-08T00:40:00Z</th>\n",
       "      <td>14.0</td>\n",
       "    </tr>\n",
       "  </tbody>\n",
       "</table>\n",
       "</div>"
      ],
      "text/plain": [
       "                      air_temp_set_1\n",
       "date_time                           \n",
       "2023-01-07T22:53:00Z            16.7\n",
       "2023-01-07T22:55:00Z            17.0\n",
       "2023-01-07T23:00:00Z            17.0\n",
       "2023-01-07T23:05:00Z            16.0\n",
       "2023-01-07T23:10:00Z            16.0\n",
       "2023-01-07T23:15:00Z            16.0\n",
       "2023-01-07T23:20:00Z            16.0\n",
       "2023-01-07T23:25:00Z            16.0\n",
       "2023-01-07T23:30:00Z            16.0\n",
       "2023-01-07T23:35:00Z            16.0\n",
       "2023-01-07T23:40:00Z            16.0\n",
       "2023-01-07T23:45:00Z            16.0\n",
       "2023-01-07T23:50:00Z            16.0\n",
       "2023-01-07T23:53:00Z            15.6\n",
       "2023-01-07T23:55:00Z            16.0\n",
       "2023-01-08T00:00:00Z            16.0\n",
       "2023-01-08T00:05:00Z            16.0\n",
       "2023-01-08T00:10:00Z            15.0\n",
       "2023-01-08T00:15:00Z            15.0\n",
       "2023-01-08T00:20:00Z            15.0\n",
       "2023-01-08T00:25:00Z            15.0\n",
       "2023-01-08T00:30:00Z            15.0\n",
       "2023-01-08T00:35:00Z            15.0\n",
       "2023-01-08T00:40:00Z            14.0"
      ]
     },
     "execution_count": 69,
     "metadata": {},
     "output_type": "execute_result"
    }
   ],
   "source": [
    "data_obs_df"
   ]
  },
  {
   "cell_type": "code",
   "execution_count": 75,
   "id": "a634bb56-d15d-45d5-9f70-453f9efb6637",
   "metadata": {},
   "outputs": [
    {
     "data": {
      "text/plain": [
       "<AxesSubplot: xlabel='Datetime', ylabel='Air Temp (Deg C)'>"
      ]
     },
     "execution_count": 75,
     "metadata": {},
     "output_type": "execute_result"
    },
    {
     "data": {
      "image/png": "[encoded data removed]",
      "text/plain": [
       "<Figure size 432x288 with 1 Axes>"
      ]
     },
     "metadata": {
      "needs_background": "light"
     },
     "output_type": "display_data"
    }
   ],
   "source": [
    "data_obs_df.plot(xlabel=\"Datetime\", ylabel=\"Air Temp (Deg C)\",rot=45)\n"
   ]
  },
  {
   "cell_type": "code",
   "execution_count": null,
   "id": "1f6da631-eef4-4845-b597-62038bf9b204",
   "metadata": {},
   "outputs": [],
   "source": []
  }
 ],
 "metadata": {
  "kernelspec": {
   "display_name": "Python 3 (ipykernel)",
   "language": "python",
   "name": "python3"
  },
  "language_info": {
   "codemirror_mode": {
    "name": "ipython",
    "version": 3
   },
   "file_extension": ".py",
   "mimetype": "text/x-python",
   "name": "python",
   "nbconvert_exporter": "python",
   "pygments_lexer": "ipython3",
   "version": "3.9.13"
  }
 },
 "nbformat": 4,
 "nbformat_minor": 5
}
